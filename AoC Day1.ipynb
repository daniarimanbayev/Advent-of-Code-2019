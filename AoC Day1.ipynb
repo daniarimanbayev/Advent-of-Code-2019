{
 "cells": [
  {
   "cell_type": "code",
   "execution_count": 30,
   "metadata": {},
   "outputs": [
    {
     "name": "stdout",
     "output_type": "stream",
     "text": [
      "4916076\n"
     ]
    }
   ],
   "source": [
    "import numpy as np\n",
    "import math\n",
    "\n",
    "totalfuel = 0\n",
    "\n",
    "def fuelRequired(mass):    \n",
    "    fuel = math.floor(mass/3) -2 \n",
    "    if fuel < 0:\n",
    "        return 0\n",
    "    else:\n",
    "        fuel += fuelRequired(fuel)\n",
    "        return fuel\n",
    "\n",
    "\n",
    "with open(r\"C:\\Users\\Daniar\\Documents\\Python Scripts\\day1_modulemasses.txt\",\"r\") as file:\n",
    "    for line in file:\n",
    "        totalfuel += fuelRequired(int(line))\n",
    "\n",
    "print(totalfuel)\n",
    "        \n",
    "\n",
    "\n",
    "\n",
    "file.close()"
   ]
  },
  {
   "cell_type": "code",
   "execution_count": null,
   "metadata": {},
   "outputs": [],
   "source": []
  },
  {
   "cell_type": "code",
   "execution_count": null,
   "metadata": {},
   "outputs": [],
   "source": []
  },
  {
   "cell_type": "code",
   "execution_count": null,
   "metadata": {},
   "outputs": [],
   "source": []
  }
 ],
 "metadata": {
  "kernelspec": {
   "display_name": "Python 3",
   "language": "python",
   "name": "python3"
  },
  "language_info": {
   "codemirror_mode": {
    "name": "ipython",
    "version": 3
   },
   "file_extension": ".py",
   "mimetype": "text/x-python",
   "name": "python",
   "nbconvert_exporter": "python",
   "pygments_lexer": "ipython3",
   "version": "3.7.1"
  }
 },
 "nbformat": 4,
 "nbformat_minor": 2
}
