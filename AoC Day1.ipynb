{
 "cells": [
  {
   "cell_type": "code",
   "execution_count": 4,
   "metadata": {},
   "outputs": [
    {
     "name": "stdout",
     "output_type": "stream",
     "text": [
      "4916076\n"
     ]
    }
   ],
   "source": [
    "import numpy as np\n",
    "import math\n",
    "\n",
    "def fuelRequired(mass):    \n",
    "    fuel = math.floor(mass/3) -2     \n",
    "    \n",
    "    if fuel < 0:     # all negative fuel demands treated as zero fuel (base case)\n",
    "        return 0    \n",
    "    else:            # add fuel's mass fuel requirement (recursive case)\n",
    "        fuel += fuelRequired(fuel)\n",
    "        return fuel\n",
    "\n",
    "\n",
    "    \n",
    "totalfuel = 0\n",
    "    \n",
    "with open(r\"C:\\Users\\Daniar\\Documents\\Python Scripts\\AoC\\day1_modulemasses.txt\",\"r\") as file:\n",
    "    for line in file:\n",
    "        totalfuel += fuelRequired(int(line))          # compound fuel required for each module mass\n",
    "file.close()\n",
    "\n",
    "print(totalfuel)\n",
    "        \n"
   ]
  }
 ],
 "metadata": {
  "kernelspec": {
   "display_name": "Python 3",
   "language": "python",
   "name": "python3"
  },
  "language_info": {
   "codemirror_mode": {
    "name": "ipython",
    "version": 3
   },
   "file_extension": ".py",
   "mimetype": "text/x-python",
   "name": "python",
   "nbconvert_exporter": "python",
   "pygments_lexer": "ipython3",
   "version": "3.7.1"
  }
 },
 "nbformat": 4,
 "nbformat_minor": 2
}
